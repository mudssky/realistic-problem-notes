{
 "cells": [
  {
   "cell_type": "markdown",
   "metadata": {},
   "source": [
    "## 国内个税计算"
   ]
  },
  {
   "cell_type": "code",
   "execution_count": null,
   "metadata": {},
   "outputs": [
    {
     "data": {
      "text/plain": [
       "11480.0"
      ]
     },
     "execution_count": 2,
     "metadata": {},
     "output_type": "execute_result"
    }
   ],
   "source": [
    "def calculate_tax(annual_income):\n",
    "    # 扣除起征点（年收入6万元）\n",
    "    taxable_income = annual_income - 60000\n",
    "    if taxable_income <= 0:\n",
    "        return 0\n",
    "    \n",
    "    # 税率表（年应纳税所得额区间）\n",
    "    tax_rates = [0.03, 0.1, 0.2, 0.25, 0.3, 0.35, 0.45]\n",
    "    brackets = [36000, 144000, 300000, 420000, 660000, 960000, float('inf')]\n",
    "    quick_deductions = [0, 2520, 16920, 31920, 52920, 85920, 181920]\n",
    "    \n",
    "    # 找到适用的税率区间\n",
    "    tax = 0\n",
    "    for i in range(len(brackets)):\n",
    "        if taxable_income <= brackets[i]:\n",
    "            tax = taxable_income * tax_rates[i] - quick_deductions[i]\n",
    "            break\n",
    "    return max(tax, 0)  # 确保不返回负数\n",
    "\n",
    "\n",
    "calculate_tax(200000)\n"
   ]
  },
  {
   "cell_type": "code",
   "execution_count": null,
   "metadata": {},
   "outputs": [],
   "source": [
    "\n"
   ]
  },
  {
   "cell_type": "code",
   "execution_count": null,
   "metadata": {},
   "outputs": [],
   "source": []
  }
 ],
 "metadata": {
  "kernelspec": {
   "display_name": "Python 3",
   "language": "python",
   "name": "python3"
  },
  "language_info": {
   "codemirror_mode": {
    "name": "ipython",
    "version": 3
   },
   "file_extension": ".py",
   "mimetype": "text/x-python",
   "name": "python",
   "nbconvert_exporter": "python",
   "pygments_lexer": "ipython3",
   "version": "3.11.1"
  }
 },
 "nbformat": 4,
 "nbformat_minor": 2
}
